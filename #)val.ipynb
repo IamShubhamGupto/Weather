{
 "cells": [
  {
   "cell_type": "code",
   "execution_count": 2,
   "metadata": {},
   "outputs": [
    {
     "name": "stdout",
     "output_type": "stream",
     "text": [
      "[[[24.90234375 24.65820313 24.65820313 ... 24.4140625  24.4140625\n",
      "   24.4140625 ]]\n",
      "\n",
      " [[24.16992188 23.92578125 23.92578125 ... 23.19335938 23.4375\n",
      "   23.4375    ]]\n",
      "\n",
      " [[23.4375     23.4375     23.4375     ... 23.19335938 23.19335938\n",
      "   23.19335938]]\n",
      "\n",
      " ...\n",
      "\n",
      " [[23.4375     23.4375     23.4375     ... 23.68164063 23.92578125\n",
      "   23.68164063]]\n",
      "\n",
      " [[23.68164063 23.68164063 23.4375     ... 24.4140625  24.16992188\n",
      "   24.4140625 ]]\n",
      "\n",
      " [[24.4140625  24.16992188 24.16992188 ... 24.16992188 24.4140625\n",
      "   24.4140625 ]]]\n"
     ]
    }
   ],
   "source": [
    "import numpy as np\n",
    "import pandas as pd\n",
    "df1=pd.read_csv('JUNE_COMBINED.csv')\n",
    "\n",
    "X_train=df1['1']\n",
    "X_train=np.array(X_train)\n",
    "X_train=np.reshape(X_train,(30,1,480))\n",
    "print(X_train)"
   ]
  },
  {
   "cell_type": "code",
   "execution_count": null,
   "metadata": {},
   "outputs": [],
   "source": []
  }
 ],
 "metadata": {
  "kernelspec": {
   "display_name": "Python 3",
   "language": "python",
   "name": "python3"
  },
  "language_info": {
   "codemirror_mode": {
    "name": "ipython",
    "version": 3
   },
   "file_extension": ".py",
   "mimetype": "text/x-python",
   "name": "python",
   "nbconvert_exporter": "python",
   "pygments_lexer": "ipython3",
   "version": "3.8.3"
  }
 },
 "nbformat": 4,
 "nbformat_minor": 4
}
