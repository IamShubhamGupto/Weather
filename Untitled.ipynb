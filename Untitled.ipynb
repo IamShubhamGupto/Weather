{
 "cells": [
  {
   "cell_type": "code",
   "execution_count": 14,
   "metadata": {},
   "outputs": [],
   "source": [
    "import numpy as np\n",
    "import pandas as pd\n",
    "import matplotlib.pyplot as plt\n",
    "\n",
    "data1 = pd.read_csv('TOTAL MEAN.csv')\n",
    "data2 = pd.read_csv('WSlog_2020525.csv')"
   ]
  },
  {
   "cell_type": "code",
   "execution_count": 15,
   "metadata": {},
   "outputs": [],
   "source": [
    "y1 = np.array(data1.iloc[:,0])\n",
    "y1 = y1[:239]\n",
    "y2=np.array(data2.iloc[:,0])\n"
   ]
  },
  {
   "cell_type": "code",
   "execution_count": 21,
   "metadata": {},
   "outputs": [
    {
     "name": "stdout",
     "output_type": "stream",
     "text": [
      "['0:5:12' '0:8:12' '0:11:12' '0:14:12' '0:17:12' '0:20:13' '0:23:13'\n",
      " '0:26:13' '0:29:13' '0:32:13' '0:35:13' '0:38:13' '0:41:13' '0:44:13'\n",
      " '0:47:13' '0:50:13' '0:53:14' '0:56:14' '0:59:14' '1:2:14' '1:5:14'\n",
      " '1:8:14' '1:11:14' '1:14:14' '1:17:15' '1:20:15' '1:23:15' '1:26:15'\n",
      " '1:29:15' '1:32:15' '1:35:15' '1:38:15' '1:41:15' '1:44:15' '1:47:16'\n",
      " '1:50:16' '1:53:16' '1:56:16' '1:59:16' '2:2:16' '2:5:16' '2:8:16'\n",
      " '2:11:17' '2:14:17' '2:17:17' '2:20:17' '2:23:17' '2:26:17' '2:29:17'\n",
      " '2:32:17' '2:35:17' '2:38:18' '2:41:18' '2:44:18' '2:47:18' '2:50:18'\n",
      " '2:53:18' '2:56:18' '2:59:18' '3:2:19' '3:5:19' '3:8:19' '3:11:19'\n",
      " '3:14:19' '3:17:19' '3:20:19' '3:23:19' '3:26:19' '3:29:19' '3:32:20'\n",
      " '3:35:20' '3:38:20' '3:41:20' '3:44:20' '3:47:20' '3:50:20' '3:53:20'\n",
      " '3:56:21' '3:59:21' '4:2:21' '4:5:21' '4:8:21' '4:11:21' '4:14:21'\n",
      " '4:17:21' '4:20:21' '4:23:22' '4:26:22' '4:29:22' '4:32:22' '4:35:22'\n",
      " '4:38:22' '4:41:22' '4:44:22' '4:47:23' '4:50:23' '4:53:23' '4:56:23'\n",
      " '4:59:23' '5:2:23' '5:5:23' '5:8:23' '5:11:23' '5:14:24' '5:17:24'\n",
      " '5:20:24' '5:23:24' '5:26:24' '5:29:24' '5:32:24' '5:35:24' '5:38:24'\n",
      " '5:41:25' '5:44:25' '5:47:25' '5:50:25' '5:53:25' '5:56:25' '5:59:25'\n",
      " '6:2:25' '6:5:25' '6:8:25' '6:11:26' '6:14:26' '6:17:26' '6:20:26'\n",
      " '6:23:26' '6:26:26' '6:29:26' '6:32:26' '6:35:27' '6:38:27' '6:41:27'\n",
      " '6:44:27' '6:47:27' '6:50:27' '6:53:27' '6:56:27' '6:59:27' '7:2:28'\n",
      " '7:5:28' '7:8:28' '7:11:28' '7:14:28' '7:17:28' '7:20:28' '7:23:28'\n",
      " '7:26:28' '7:29:29' '7:32:29' '7:35:29' '7:38:29' '7:41:29' '7:44:29'\n",
      " '7:47:29' '7:50:29' '7:53:29' '7:56:30' '7:59:30' '8:2:30' '8:5:30'\n",
      " '8:8:30' '8:11:30' '8:14:30' '8:17:30' '8:20:30' '8:23:31' '8:26:31'\n",
      " '8:29:31' '8:32:31' '8:35:31' '8:38:31' '8:41:31' '8:44:31' '8:47:32'\n",
      " '8:50:32' '8:53:32' '8:56:32' '8:59:32' '9:2:32' '9:5:32' '9:8:32'\n",
      " '9:11:32' '9:14:33' '9:17:33' '9:20:33' '9:23:33' '9:26:33' '9:29:33'\n",
      " '9:32:33' '9:35:33' '9:38:34' '9:41:34' '9:44:34' '9:47:34' '9:50:34'\n",
      " '9:53:34' '9:56:34' '9:59:34' '10:2:34' '10:5:34' '10:8:34' '10:11:35'\n",
      " '10:14:35' '10:17:35' '10:20:35' '10:23:35' '10:26:35' '10:29:35'\n",
      " '10:32:35' '10:35:35' '10:38:36' '10:41:36' '10:44:36' '10:47:36'\n",
      " '10:50:36' '10:53:36' '10:56:36' '10:59:36' '11:2:36' '11:5:36' '11:8:36'\n",
      " '11:11:37' '11:14:37' '11:17:37' '11:20:37' '11:23:37' '11:26:37'\n",
      " '11:29:37' '11:32:37' '11:35:38' '11:38:38' '11:41:38' '11:44:38'\n",
      " '11:47:38' '11:50:38' '11:53:38' '11:56:38' '11:59:38' '12:2:39'\n",
      " '12:5:39' '12:8:39' '12:11:39' '12:14:39' '12:17:39' '12:20:39'\n",
      " '12:23:39' '12:26:39' '12:29:40' '12:32:40' '12:35:40' '12:38:40'\n",
      " '12:41:40' '12:44:40' '12:47:40' '12:50:40' '12:53:40' '12:56:41'\n",
      " '12:59:41' '13:2:41' '13:5:41' '13:8:41' '13:11:41' '13:14:41' '13:17:41'\n",
      " '13:20:41' '13:23:42' '13:26:42' '13:29:42' '13:32:42' '13:35:42'\n",
      " '13:38:42' '13:41:42' '13:44:42' '13:47:42' '13:50:43' '13:53:43'\n",
      " '13:56:43' '13:59:43' '14:2:43' '14:5:43' '14:8:43' '14:11:43' '14:14:44'\n",
      " '14:17:44' '14:20:44' '14:23:44' '14:26:44' '14:29:44' '14:32:44'\n",
      " '14:35:44' '14:38:44' '14:41:45' '14:44:45' '14:47:45' '14:50:45'\n",
      " '14:53:45' '14:56:45' '14:59:45' '15:2:45' '15:5:45' '15:8:46' '15:11:46'\n",
      " '15:14:46' '15:17:46' '15:20:46' '15:23:46' '15:26:46' '15:29:46'\n",
      " '15:32:46' '15:35:46' '15:38:47' '15:41:47' '15:44:47' '15:47:47'\n",
      " '15:50:47' '15:53:47' '15:56:47' '15:59:47' '16:2:48' '16:5:48' '16:8:48'\n",
      " '16:11:48' '16:14:48' '16:17:48' '16:20:48' '16:23:48' '16:26:48'\n",
      " '16:29:49' '16:32:49' '16:35:49' '16:38:49' '16:41:49' '16:44:49'\n",
      " '16:47:49' '16:50:49' '16:53:49' '16:56:50' '16:59:50' '17:2:50'\n",
      " '17:5:50' '17:8:50' '17:11:50' '17:14:50' '17:17:50' '17:20:51'\n",
      " '17:23:51' '17:26:51' '17:29:51' '17:32:51' '17:35:51' '17:38:51'\n",
      " '17:41:51' '17:44:51' '17:47:52' '17:50:52' '17:53:52' '17:56:52'\n",
      " '17:59:52' '18:2:52' '18:5:52' '18:8:52' '18:11:53' '18:14:53' '18:17:53'\n",
      " '18:20:53' '18:23:53' '18:26:53' '18:29:53' '18:32:53' '18:35:53'\n",
      " '18:38:53' '18:41:54' '18:44:54' '18:47:54' '18:50:54' '18:53:54'\n",
      " '18:56:54' '18:59:54' '19:2:54' '19:5:55' '19:8:55' '19:11:55' '19:14:55'\n",
      " '19:17:55' '19:20:55' '19:23:55' '19:26:55' '19:29:55' '19:32:56'\n",
      " '19:35:56' '19:38:56' '19:41:56' '19:44:56' '19:47:56' '19:50:56'\n",
      " '19:53:56' '19:56:56' '19:59:57' '20:2:57' '20:5:57' '20:8:57' '20:11:57'\n",
      " '20:14:57' '20:17:57' '20:20:57' '20:23:57' '20:26:58' '20:29:58'\n",
      " '20:32:58' '20:35:58' '20:38:58' '20:41:58' '20:44:58' '20:47:58'\n",
      " '20:50:58' '20:53:59' '20:56:59' '20:59:59' '21:2:59' '21:5:59' '21:8:59'\n",
      " '21:11:59' '21:14:59' '21:17:59' '21:21:0' '21:24:0' '21:27:0' '21:30:0'\n",
      " '21:33:0' '21:36:0' '21:39:0' '21:42:0' '21:45:0' '21:48:0' '21:51:1'\n",
      " '21:54:1' '21:57:1' '22:0:1' '22:3:1' '22:6:1' '22:9:1' '22:12:1'\n",
      " '22:15:1' '22:18:2' '22:21:2' '22:24:2' '22:27:2' '22:30:2' '22:33:2'\n",
      " '22:36:2' '22:39:2' '22:42:2' '22:45:3' '22:48:3' '22:51:3' '22:54:3'\n",
      " '22:57:3' '23:0:3' '23:3:3' '23:6:3' '23:9:3' '23:12:4' '23:15:4'\n",
      " '23:18:4' '23:21:4' '23:24:4' '23:27:4' '23:30:4' '23:33:4' '23:36:4'\n",
      " '23:39:5' '23:42:5' '23:45:5' '23:48:5' '23:51:5' '23:54:5' '23:57:5']\n"
     ]
    }
   ],
   "source": [
    "print (y2)"
   ]
  },
  {
   "cell_type": "code",
   "execution_count": 16,
   "metadata": {},
   "outputs": [
    {
     "data": {
      "text/plain": [
       "'C:\\\\Users\\\\Deadxshot\\\\Desktop\\\\Raghuram\\\\WEATHER\\\\May'"
      ]
     },
     "execution_count": 16,
     "metadata": {},
     "output_type": "execute_result"
    }
   ],
   "source": [
    "pwd\n"
   ]
  },
  {
   "cell_type": "code",
   "execution_count": 17,
   "metadata": {},
   "outputs": [
    {
     "ename": "TypeError",
     "evalue": "unsupported operand type(s) for /: 'str' and 'int'",
     "output_type": "error",
     "traceback": [
      "\u001b[1;31m---------------------------------------------------------------------------\u001b[0m",
      "\u001b[1;31mTypeError\u001b[0m                                 Traceback (most recent call last)",
      "\u001b[1;32m<ipython-input-17-1585e11a83a7>\u001b[0m in \u001b[0;36m<module>\u001b[1;34m\u001b[0m\n\u001b[1;32m----> 1\u001b[1;33m \u001b[0mnp\u001b[0m\u001b[1;33m.\u001b[0m\u001b[0mmean\u001b[0m\u001b[1;33m(\u001b[0m\u001b[0my1\u001b[0m\u001b[1;33m)\u001b[0m \u001b[1;33m-\u001b[0m \u001b[0mnp\u001b[0m\u001b[1;33m.\u001b[0m\u001b[0mmean\u001b[0m\u001b[1;33m(\u001b[0m\u001b[0my2\u001b[0m\u001b[1;33m)\u001b[0m\u001b[1;33m\u001b[0m\u001b[1;33m\u001b[0m\u001b[0m\n\u001b[0m",
      "\u001b[1;32m<__array_function__ internals>\u001b[0m in \u001b[0;36mmean\u001b[1;34m(*args, **kwargs)\u001b[0m\n",
      "\u001b[1;32m~\\anaconda3\\lib\\site-packages\\numpy\\core\\fromnumeric.py\u001b[0m in \u001b[0;36mmean\u001b[1;34m(a, axis, dtype, out, keepdims)\u001b[0m\n\u001b[0;32m   3332\u001b[0m             \u001b[1;32mreturn\u001b[0m \u001b[0mmean\u001b[0m\u001b[1;33m(\u001b[0m\u001b[0maxis\u001b[0m\u001b[1;33m=\u001b[0m\u001b[0maxis\u001b[0m\u001b[1;33m,\u001b[0m \u001b[0mdtype\u001b[0m\u001b[1;33m=\u001b[0m\u001b[0mdtype\u001b[0m\u001b[1;33m,\u001b[0m \u001b[0mout\u001b[0m\u001b[1;33m=\u001b[0m\u001b[0mout\u001b[0m\u001b[1;33m,\u001b[0m \u001b[1;33m**\u001b[0m\u001b[0mkwargs\u001b[0m\u001b[1;33m)\u001b[0m\u001b[1;33m\u001b[0m\u001b[1;33m\u001b[0m\u001b[0m\n\u001b[0;32m   3333\u001b[0m \u001b[1;33m\u001b[0m\u001b[0m\n\u001b[1;32m-> 3334\u001b[1;33m     return _methods._mean(a, axis=axis, dtype=dtype,\n\u001b[0m\u001b[0;32m   3335\u001b[0m                           out=out, **kwargs)\n\u001b[0;32m   3336\u001b[0m \u001b[1;33m\u001b[0m\u001b[0m\n",
      "\u001b[1;32m~\\anaconda3\\lib\\site-packages\\numpy\\core\\_methods.py\u001b[0m in \u001b[0;36m_mean\u001b[1;34m(a, axis, dtype, out, keepdims)\u001b[0m\n\u001b[0;32m    161\u001b[0m             \u001b[0mret\u001b[0m \u001b[1;33m=\u001b[0m \u001b[0mret\u001b[0m\u001b[1;33m.\u001b[0m\u001b[0mdtype\u001b[0m\u001b[1;33m.\u001b[0m\u001b[0mtype\u001b[0m\u001b[1;33m(\u001b[0m\u001b[0mret\u001b[0m \u001b[1;33m/\u001b[0m \u001b[0mrcount\u001b[0m\u001b[1;33m)\u001b[0m\u001b[1;33m\u001b[0m\u001b[1;33m\u001b[0m\u001b[0m\n\u001b[0;32m    162\u001b[0m     \u001b[1;32melse\u001b[0m\u001b[1;33m:\u001b[0m\u001b[1;33m\u001b[0m\u001b[1;33m\u001b[0m\u001b[0m\n\u001b[1;32m--> 163\u001b[1;33m         \u001b[0mret\u001b[0m \u001b[1;33m=\u001b[0m \u001b[0mret\u001b[0m \u001b[1;33m/\u001b[0m \u001b[0mrcount\u001b[0m\u001b[1;33m\u001b[0m\u001b[1;33m\u001b[0m\u001b[0m\n\u001b[0m\u001b[0;32m    164\u001b[0m \u001b[1;33m\u001b[0m\u001b[0m\n\u001b[0;32m    165\u001b[0m     \u001b[1;32mreturn\u001b[0m \u001b[0mret\u001b[0m\u001b[1;33m\u001b[0m\u001b[1;33m\u001b[0m\u001b[0m\n",
      "\u001b[1;31mTypeError\u001b[0m: unsupported operand type(s) for /: 'str' and 'int'"
     ]
    }
   ],
   "source": []
  },
  {
   "cell_type": "code",
   "execution_count": 22,
   "metadata": {},
   "outputs": [
    {
     "data": {
      "text/plain": [
       "(478,)"
      ]
     },
     "execution_count": 22,
     "metadata": {},
     "output_type": "execute_result"
    }
   ],
   "source": [
    "y2 = np.array(data2.iloc[:,0])\n",
    "y2.shape"
   ]
  },
  {
   "cell_type": "code",
   "execution_count": 23,
   "metadata": {
    "scrolled": true
   },
   "outputs": [
    {
     "ename": "TypeError",
     "evalue": "can only concatenate str (not \"float\") to str",
     "output_type": "error",
     "traceback": [
      "\u001b[1;31m---------------------------------------------------------------------------\u001b[0m",
      "\u001b[1;31mTypeError\u001b[0m                                 Traceback (most recent call last)",
      "\u001b[1;32m<ipython-input-23-8723cb9b35fc>\u001b[0m in \u001b[0;36m<module>\u001b[1;34m\u001b[0m\n\u001b[0;32m      1\u001b[0m \u001b[0mplt\u001b[0m\u001b[1;33m.\u001b[0m\u001b[0mplot\u001b[0m\u001b[1;33m(\u001b[0m\u001b[0my1\u001b[0m\u001b[1;33m,\u001b[0m\u001b[0mcolor\u001b[0m\u001b[1;33m=\u001b[0m\u001b[1;34m'b'\u001b[0m\u001b[1;33m,\u001b[0m\u001b[0mlabel\u001b[0m\u001b[1;33m=\u001b[0m\u001b[1;34m'1'\u001b[0m\u001b[1;33m)\u001b[0m\u001b[1;33m\u001b[0m\u001b[1;33m\u001b[0m\u001b[0m\n\u001b[1;32m----> 2\u001b[1;33m \u001b[0mplt\u001b[0m\u001b[1;33m.\u001b[0m\u001b[0mplot\u001b[0m\u001b[1;33m(\u001b[0m\u001b[0my2\u001b[0m\u001b[1;33m+\u001b[0m\u001b[1;36m24.62\u001b[0m\u001b[1;33m,\u001b[0m\u001b[0mcolor\u001b[0m\u001b[1;33m=\u001b[0m\u001b[1;34m'r'\u001b[0m\u001b[1;33m,\u001b[0m\u001b[0mlabel\u001b[0m\u001b[1;33m=\u001b[0m\u001b[1;34m'2'\u001b[0m\u001b[1;33m)\u001b[0m\u001b[1;33m\u001b[0m\u001b[1;33m\u001b[0m\u001b[0m\n\u001b[0m",
      "\u001b[1;31mTypeError\u001b[0m: can only concatenate str (not \"float\") to str"
     ]
    },
    {
     "data": {
      "image/png": "[encoded data removed]",
      "text/plain": [
       "<Figure size 432x288 with 1 Axes>"
      ]
     },
     "metadata": {
      "needs_background": "light"
     },
     "output_type": "display_data"
    }
   ],
   "source": [
    "plt.plot(y1,color='b',label='1')\n",
    "plt.plot(y2+24.62,color='r',label='2')"
   ]
  },
  {
   "cell_type": "code",
   "execution_count": null,
   "metadata": {},
   "outputs": [],
   "source": []
  },
  {
   "cell_type": "code",
   "execution_count": null,
   "metadata": {},
   "outputs": [],
   "source": []
  },
  {
   "cell_type": "code",
   "execution_count": null,
   "metadata": {},
   "outputs": [],
   "source": []
  },
  {
   "cell_type": "code",
   "execution_count": null,
   "metadata": {},
   "outputs": [],
   "source": []
  }
 ],
 "metadata": {
  "kernelspec": {
   "display_name": "Python 3",
   "language": "python",
   "name": "python3"
  },
  "language_info": {
   "codemirror_mode": {
    "name": "ipython",
    "version": 3
   },
   "file_extension": ".py",
   "mimetype": "text/x-python",
   "name": "python",
   "nbconvert_exporter": "python",
   "pygments_lexer": "ipython3",
   "version": "3.8.3"
  }
 },
 "nbformat": 4,
 "nbformat_minor": 4
}
